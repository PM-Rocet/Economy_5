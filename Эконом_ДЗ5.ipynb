{
  "nbformat": 4,
  "nbformat_minor": 0,
  "metadata": {
    "colab": {
      "provenance": [],
      "authorship_tag": "ABX9TyNCAGzuuIwEk+pb8E4sjkIu",
      "include_colab_link": true
    },
    "kernelspec": {
      "name": "python3",
      "display_name": "Python 3"
    },
    "language_info": {
      "name": "python"
    }
  },
  "cells": [
    {
      "cell_type": "markdown",
      "metadata": {
        "id": "view-in-github",
        "colab_type": "text"
      },
      "source": [
        "<a href=\"https://colab.research.google.com/github/PM-Rocet/Economy_5/blob/main/%D0%AD%D0%BA%D0%BE%D0%BD%D0%BE%D0%BC_%D0%94%D0%975.ipynb\" target=\"_parent\"><img src=\"https://colab.research.google.com/assets/colab-badge.svg\" alt=\"Open In Colab\"/></a>"
      ]
    },
    {
      "cell_type": "markdown",
      "source": [
        "В вашем распоряжении имеются помесячные данные (файл advert. xslx) за период с января 2001 по декабрь 2010 г. о расходах на рекламу и объемах продаж регионального подразделения транснациональной корпорации: $x_t$ — расходы фирмы на рекламу, $y_t$ — объем продаж фирмы.\n",
        "\n",
        "(а) Осуществите для рассматриваемых переменных тест Грейнджера на причинно-следственную связь (используйте первый, второй и третий лаги для каждой из переменных). Интерпретируйте результаты теста."
      ],
      "metadata": {
        "id": "54NgupF9Zdka"
      }
    },
    {
      "cell_type": "markdown",
      "source": [
        "Импортируем библиотеки и загружаем данные"
      ],
      "metadata": {
        "id": "05TkFN_zbjN1"
      }
    },
    {
      "cell_type": "code",
      "source": [
        "import pandas as pd\n",
        "from statsmodels.tsa.stattools import grangercausalitytests\n",
        "import matplotlib.pyplot as plt\n",
        "\n",
        "# Загрузка данных\n",
        "df = pd.read_excel('advert.xlsx')\n",
        "\n",
        "# Просмотр первых строк\n",
        "df.head()"
      ],
      "metadata": {
        "colab": {
          "base_uri": "https://localhost:8080/",
          "height": 206
        },
        "id": "gBFXG9GRbs32",
        "outputId": "c0b784df-9059-4e6f-e0ee-bc4155e7323b"
      },
      "execution_count": null,
      "outputs": [
        {
          "output_type": "execute_result",
          "data": {
            "text/plain": [
              "   x     y\n",
              "0  4  27.0\n",
              "1  3  25.7\n",
              "2  0  24.3\n",
              "3  5  23.2\n",
              "4  3  27.6"
            ],
            "text/html": [
              "\n",
              "  <div id=\"df-540a992d-1212-4e79-8cc2-e282f318187e\" class=\"colab-df-container\">\n",
              "    <div>\n",
              "<style scoped>\n",
              "    .dataframe tbody tr th:only-of-type {\n",
              "        vertical-align: middle;\n",
              "    }\n",
              "\n",
              "    .dataframe tbody tr th {\n",
              "        vertical-align: top;\n",
              "    }\n",
              "\n",
              "    .dataframe thead th {\n",
              "        text-align: right;\n",
              "    }\n",
              "</style>\n",
              "<table border=\"1\" class=\"dataframe\">\n",
              "  <thead>\n",
              "    <tr style=\"text-align: right;\">\n",
              "      <th></th>\n",
              "      <th>x</th>\n",
              "      <th>y</th>\n",
              "    </tr>\n",
              "  </thead>\n",
              "  <tbody>\n",
              "    <tr>\n",
              "      <th>0</th>\n",
              "      <td>4</td>\n",
              "      <td>27.0</td>\n",
              "    </tr>\n",
              "    <tr>\n",
              "      <th>1</th>\n",
              "      <td>3</td>\n",
              "      <td>25.7</td>\n",
              "    </tr>\n",
              "    <tr>\n",
              "      <th>2</th>\n",
              "      <td>0</td>\n",
              "      <td>24.3</td>\n",
              "    </tr>\n",
              "    <tr>\n",
              "      <th>3</th>\n",
              "      <td>5</td>\n",
              "      <td>23.2</td>\n",
              "    </tr>\n",
              "    <tr>\n",
              "      <th>4</th>\n",
              "      <td>3</td>\n",
              "      <td>27.6</td>\n",
              "    </tr>\n",
              "  </tbody>\n",
              "</table>\n",
              "</div>\n",
              "    <div class=\"colab-df-buttons\">\n",
              "\n",
              "  <div class=\"colab-df-container\">\n",
              "    <button class=\"colab-df-convert\" onclick=\"convertToInteractive('df-540a992d-1212-4e79-8cc2-e282f318187e')\"\n",
              "            title=\"Convert this dataframe to an interactive table.\"\n",
              "            style=\"display:none;\">\n",
              "\n",
              "  <svg xmlns=\"http://www.w3.org/2000/svg\" height=\"24px\" viewBox=\"0 -960 960 960\">\n",
              "    <path d=\"M120-120v-720h720v720H120Zm60-500h600v-160H180v160Zm220 220h160v-160H400v160Zm0 220h160v-160H400v160ZM180-400h160v-160H180v160Zm440 0h160v-160H620v160ZM180-180h160v-160H180v160Zm440 0h160v-160H620v160Z\"/>\n",
              "  </svg>\n",
              "    </button>\n",
              "\n",
              "  <style>\n",
              "    .colab-df-container {\n",
              "      display:flex;\n",
              "      gap: 12px;\n",
              "    }\n",
              "\n",
              "    .colab-df-convert {\n",
              "      background-color: #E8F0FE;\n",
              "      border: none;\n",
              "      border-radius: 50%;\n",
              "      cursor: pointer;\n",
              "      display: none;\n",
              "      fill: #1967D2;\n",
              "      height: 32px;\n",
              "      padding: 0 0 0 0;\n",
              "      width: 32px;\n",
              "    }\n",
              "\n",
              "    .colab-df-convert:hover {\n",
              "      background-color: #E2EBFA;\n",
              "      box-shadow: 0px 1px 2px rgba(60, 64, 67, 0.3), 0px 1px 3px 1px rgba(60, 64, 67, 0.15);\n",
              "      fill: #174EA6;\n",
              "    }\n",
              "\n",
              "    .colab-df-buttons div {\n",
              "      margin-bottom: 4px;\n",
              "    }\n",
              "\n",
              "    [theme=dark] .colab-df-convert {\n",
              "      background-color: #3B4455;\n",
              "      fill: #D2E3FC;\n",
              "    }\n",
              "\n",
              "    [theme=dark] .colab-df-convert:hover {\n",
              "      background-color: #434B5C;\n",
              "      box-shadow: 0px 1px 3px 1px rgba(0, 0, 0, 0.15);\n",
              "      filter: drop-shadow(0px 1px 2px rgba(0, 0, 0, 0.3));\n",
              "      fill: #FFFFFF;\n",
              "    }\n",
              "  </style>\n",
              "\n",
              "    <script>\n",
              "      const buttonEl =\n",
              "        document.querySelector('#df-540a992d-1212-4e79-8cc2-e282f318187e button.colab-df-convert');\n",
              "      buttonEl.style.display =\n",
              "        google.colab.kernel.accessAllowed ? 'block' : 'none';\n",
              "\n",
              "      async function convertToInteractive(key) {\n",
              "        const element = document.querySelector('#df-540a992d-1212-4e79-8cc2-e282f318187e');\n",
              "        const dataTable =\n",
              "          await google.colab.kernel.invokeFunction('convertToInteractive',\n",
              "                                                    [key], {});\n",
              "        if (!dataTable) return;\n",
              "\n",
              "        const docLinkHtml = 'Like what you see? Visit the ' +\n",
              "          '<a target=\"_blank\" href=https://colab.research.google.com/notebooks/data_table.ipynb>data table notebook</a>'\n",
              "          + ' to learn more about interactive tables.';\n",
              "        element.innerHTML = '';\n",
              "        dataTable['output_type'] = 'display_data';\n",
              "        await google.colab.output.renderOutput(dataTable, element);\n",
              "        const docLink = document.createElement('div');\n",
              "        docLink.innerHTML = docLinkHtml;\n",
              "        element.appendChild(docLink);\n",
              "      }\n",
              "    </script>\n",
              "  </div>\n",
              "\n",
              "\n",
              "<div id=\"df-8eb9eb94-34d0-4719-a1b4-8fe4c65d8fcf\">\n",
              "  <button class=\"colab-df-quickchart\" onclick=\"quickchart('df-8eb9eb94-34d0-4719-a1b4-8fe4c65d8fcf')\"\n",
              "            title=\"Suggest charts\"\n",
              "            style=\"display:none;\">\n",
              "\n",
              "<svg xmlns=\"http://www.w3.org/2000/svg\" height=\"24px\"viewBox=\"0 0 24 24\"\n",
              "     width=\"24px\">\n",
              "    <g>\n",
              "        <path d=\"M19 3H5c-1.1 0-2 .9-2 2v14c0 1.1.9 2 2 2h14c1.1 0 2-.9 2-2V5c0-1.1-.9-2-2-2zM9 17H7v-7h2v7zm4 0h-2V7h2v10zm4 0h-2v-4h2v4z\"/>\n",
              "    </g>\n",
              "</svg>\n",
              "  </button>\n",
              "\n",
              "<style>\n",
              "  .colab-df-quickchart {\n",
              "      --bg-color: #E8F0FE;\n",
              "      --fill-color: #1967D2;\n",
              "      --hover-bg-color: #E2EBFA;\n",
              "      --hover-fill-color: #174EA6;\n",
              "      --disabled-fill-color: #AAA;\n",
              "      --disabled-bg-color: #DDD;\n",
              "  }\n",
              "\n",
              "  [theme=dark] .colab-df-quickchart {\n",
              "      --bg-color: #3B4455;\n",
              "      --fill-color: #D2E3FC;\n",
              "      --hover-bg-color: #434B5C;\n",
              "      --hover-fill-color: #FFFFFF;\n",
              "      --disabled-bg-color: #3B4455;\n",
              "      --disabled-fill-color: #666;\n",
              "  }\n",
              "\n",
              "  .colab-df-quickchart {\n",
              "    background-color: var(--bg-color);\n",
              "    border: none;\n",
              "    border-radius: 50%;\n",
              "    cursor: pointer;\n",
              "    display: none;\n",
              "    fill: var(--fill-color);\n",
              "    height: 32px;\n",
              "    padding: 0;\n",
              "    width: 32px;\n",
              "  }\n",
              "\n",
              "  .colab-df-quickchart:hover {\n",
              "    background-color: var(--hover-bg-color);\n",
              "    box-shadow: 0 1px 2px rgba(60, 64, 67, 0.3), 0 1px 3px 1px rgba(60, 64, 67, 0.15);\n",
              "    fill: var(--button-hover-fill-color);\n",
              "  }\n",
              "\n",
              "  .colab-df-quickchart-complete:disabled,\n",
              "  .colab-df-quickchart-complete:disabled:hover {\n",
              "    background-color: var(--disabled-bg-color);\n",
              "    fill: var(--disabled-fill-color);\n",
              "    box-shadow: none;\n",
              "  }\n",
              "\n",
              "  .colab-df-spinner {\n",
              "    border: 2px solid var(--fill-color);\n",
              "    border-color: transparent;\n",
              "    border-bottom-color: var(--fill-color);\n",
              "    animation:\n",
              "      spin 1s steps(1) infinite;\n",
              "  }\n",
              "\n",
              "  @keyframes spin {\n",
              "    0% {\n",
              "      border-color: transparent;\n",
              "      border-bottom-color: var(--fill-color);\n",
              "      border-left-color: var(--fill-color);\n",
              "    }\n",
              "    20% {\n",
              "      border-color: transparent;\n",
              "      border-left-color: var(--fill-color);\n",
              "      border-top-color: var(--fill-color);\n",
              "    }\n",
              "    30% {\n",
              "      border-color: transparent;\n",
              "      border-left-color: var(--fill-color);\n",
              "      border-top-color: var(--fill-color);\n",
              "      border-right-color: var(--fill-color);\n",
              "    }\n",
              "    40% {\n",
              "      border-color: transparent;\n",
              "      border-right-color: var(--fill-color);\n",
              "      border-top-color: var(--fill-color);\n",
              "    }\n",
              "    60% {\n",
              "      border-color: transparent;\n",
              "      border-right-color: var(--fill-color);\n",
              "    }\n",
              "    80% {\n",
              "      border-color: transparent;\n",
              "      border-right-color: var(--fill-color);\n",
              "      border-bottom-color: var(--fill-color);\n",
              "    }\n",
              "    90% {\n",
              "      border-color: transparent;\n",
              "      border-bottom-color: var(--fill-color);\n",
              "    }\n",
              "  }\n",
              "</style>\n",
              "\n",
              "  <script>\n",
              "    async function quickchart(key) {\n",
              "      const quickchartButtonEl =\n",
              "        document.querySelector('#' + key + ' button');\n",
              "      quickchartButtonEl.disabled = true;  // To prevent multiple clicks.\n",
              "      quickchartButtonEl.classList.add('colab-df-spinner');\n",
              "      try {\n",
              "        const charts = await google.colab.kernel.invokeFunction(\n",
              "            'suggestCharts', [key], {});\n",
              "      } catch (error) {\n",
              "        console.error('Error during call to suggestCharts:', error);\n",
              "      }\n",
              "      quickchartButtonEl.classList.remove('colab-df-spinner');\n",
              "      quickchartButtonEl.classList.add('colab-df-quickchart-complete');\n",
              "    }\n",
              "    (() => {\n",
              "      let quickchartButtonEl =\n",
              "        document.querySelector('#df-8eb9eb94-34d0-4719-a1b4-8fe4c65d8fcf button');\n",
              "      quickchartButtonEl.style.display =\n",
              "        google.colab.kernel.accessAllowed ? 'block' : 'none';\n",
              "    })();\n",
              "  </script>\n",
              "</div>\n",
              "    </div>\n",
              "  </div>\n"
            ],
            "application/vnd.google.colaboratory.intrinsic+json": {
              "type": "dataframe",
              "variable_name": "df",
              "summary": "{\n  \"name\": \"df\",\n  \"rows\": 120,\n  \"fields\": [\n    {\n      \"column\": \"x\",\n      \"properties\": {\n        \"dtype\": \"number\",\n        \"std\": 2,\n        \"min\": 0,\n        \"max\": 9,\n        \"num_unique_values\": 10,\n        \"samples\": [\n          2,\n          3,\n          7\n        ],\n        \"semantic_type\": \"\",\n        \"description\": \"\"\n      }\n    },\n    {\n      \"column\": \"y\",\n      \"properties\": {\n        \"dtype\": \"number\",\n        \"std\": 2.9931339496147067,\n        \"min\": 20.3,\n        \"max\": 34.2,\n        \"num_unique_values\": 83,\n        \"samples\": [\n          23.3,\n          27.0,\n          24.8\n        ],\n        \"semantic_type\": \"\",\n        \"description\": \"\"\n      }\n    }\n  ]\n}"
            }
          },
          "metadata": {},
          "execution_count": 2
        }
      ]
    },
    {
      "cell_type": "markdown",
      "source": [
        "Визуализируем временные ряды"
      ],
      "metadata": {
        "id": "Anz7565ib61-"
      }
    },
    {
      "cell_type": "code",
      "source": [
        "df.plot(subplots=True, title=[\"Расходы на рекламу ($x_t$)\", \"Объем продаж ($y_t$)\"], figsize=(10, 6))\n",
        "plt.tight_layout()\n",
        "plt.show()"
      ],
      "metadata": {
        "colab": {
          "base_uri": "https://localhost:8080/",
          "height": 607
        },
        "id": "D18TFpXwcBLO",
        "outputId": "373e20c9-f379-4d4f-9df3-dbfcc132f643"
      },
      "execution_count": null,
      "outputs": [
        {
          "output_type": "display_data",
          "data": {
            "text/plain": [
              "<Figure size 1000x600 with 2 Axes>"
            ],
            "image/png": "[encoded data removed]"
          },
          "metadata": {}
        }
      ]
    },
    {
      "cell_type": "markdown",
      "source": [
        "Проверим на стационарность с помощью теста Дики-Фуллера"
      ],
      "metadata": {
        "id": "1L_UtQAGccsU"
      }
    },
    {
      "cell_type": "code",
      "source": [
        "from statsmodels.tsa.stattools import adfuller\n",
        "\n",
        "def adf_test(series, title=''):\n",
        "    result = adfuller(series.dropna(), autolag='AIC')\n",
        "    print(f'ADF Statistic ({title}): {result[0]}')\n",
        "    print(f'p-value: {result[1]}')\n",
        "\n",
        "adf_test(df['x'], 'x_t')\n",
        "adf_test(df['y'], 'y_t')"
      ],
      "metadata": {
        "colab": {
          "base_uri": "https://localhost:8080/"
        },
        "id": "CSQsBRdXcp2u",
        "outputId": "6a03f93e-43bf-412f-da79-21f2273947a3"
      },
      "execution_count": null,
      "outputs": [
        {
          "output_type": "stream",
          "name": "stdout",
          "text": [
            "ADF Statistic (x_t): -11.92212308824074\n",
            "p-value: 5.003836247044192e-22\n",
            "ADF Statistic (y_t): -6.49725567509246\n",
            "p-value: 1.1858056017298336e-08\n"
          ]
        }
      ]
    },
    {
      "cell_type": "markdown",
      "source": [
        "p-value < 0.05, ряды стационарны"
      ],
      "metadata": {
        "id": "2OghktpLdHh6"
      }
    },
    {
      "cell_type": "markdown",
      "source": [
        "Теперь проведем тест Грейнджера для лагов 1, 2 и 3:"
      ],
      "metadata": {
        "id": "TW6mhg22dfKy"
      }
    },
    {
      "cell_type": "markdown",
      "source": [
        "Тест Грейнджера на причинность — это статистический тест гипотезы, который позволяет определить, полезен ли один набор данных временных рядов для прогнозирования другого ряда.\n",
        "\n",
        "В тесте Грейнджера последовательно проверяются две нулевые гипотезы:\n",
        "\n",
        "«X не является причиной Y по Грейнджеру»\n",
        "\n",
        "«Y не является причиной X по Грейнджеру»"
      ],
      "metadata": {
        "id": "FxgY0NtZdlt7"
      }
    },
    {
      "cell_type": "code",
      "source": [
        "max_lag = 3\n",
        "test_result = grangercausalitytests(df[['y', 'x']], maxlag=max_lag, verbose=True)"
      ],
      "metadata": {
        "colab": {
          "base_uri": "https://localhost:8080/"
        },
        "id": "pYUhbaTNdwnr",
        "outputId": "79a1f278-557b-4778-9365-1053ed7a9e75"
      },
      "execution_count": null,
      "outputs": [
        {
          "output_type": "stream",
          "name": "stdout",
          "text": [
            "\n",
            "Granger Causality\n",
            "number of lags (no zero) 1\n",
            "ssr based F test:         F=518.5301, p=0.0000  , df_denom=116, df_num=1\n",
            "ssr based chi2 test:   chi2=531.9403, p=0.0000  , df=1\n",
            "likelihood ratio test: chi2=202.2160, p=0.0000  , df=1\n",
            "parameter F test:         F=518.5301, p=0.0000  , df_denom=116, df_num=1\n",
            "\n",
            "Granger Causality\n",
            "number of lags (no zero) 2\n",
            "ssr based F test:         F=253.2506, p=0.0000  , df_denom=113, df_num=2\n",
            "ssr based chi2 test:   chi2=528.9127, p=0.0000  , df=2\n",
            "likelihood ratio test: chi2=200.7801, p=0.0000  , df=2\n",
            "parameter F test:         F=253.2506, p=0.0000  , df_denom=113, df_num=2\n",
            "\n",
            "Granger Causality\n",
            "number of lags (no zero) 3\n",
            "ssr based F test:         F=166.9698, p=0.0000  , df_denom=110, df_num=3\n",
            "ssr based chi2 test:   chi2=532.7856, p=0.0000  , df=3\n",
            "likelihood ratio test: chi2=200.5928, p=0.0000  , df=3\n",
            "parameter F test:         F=166.9698, p=0.0000  , df_denom=110, df_num=3\n"
          ]
        },
        {
          "output_type": "stream",
          "name": "stderr",
          "text": [
            "/usr/local/lib/python3.11/dist-packages/statsmodels/tsa/stattools.py:1556: FutureWarning: verbose is deprecated since functions should not print results\n",
            "  warnings.warn(\n"
          ]
        }
      ]
    },
    {
      "cell_type": "markdown",
      "source": [
        "Для каждого лага смотрим на значение p-value в блоке ssr F-test.\n",
        "\n",
        "- p-value < 0.05, отвергаем нулевую гипотезу → есть причинно-следственная связь.\n",
        "\n",
        "- Тест $y_t$ ~ $x_t$ проверяет, влияет ли $x_t$ на $y_t$ (расходы → продажи).\n",
        "\n",
        "- Тест $x_t$ ~ $y_t$ — наоборот (продажи → расходы)."
      ],
      "metadata": {
        "id": "_zwVY0nEeB-N"
      }
    },
    {
      "cell_type": "markdown",
      "source": [
        "И наоборот — проверим, вызывает ли $y_t$ изменения в $x_t$"
      ],
      "metadata": {
        "id": "BqVcqrXQfc6K"
      }
    },
    {
      "cell_type": "code",
      "source": [],
      "metadata": {
        "id": "YLZy14V-xDMn"
      },
      "execution_count": null,
      "outputs": []
    },
    {
      "cell_type": "code",
      "source": [
        "test_result_reverse = grangercausalitytests(df[['x', 'y']], maxlag=max_lag, verbose=True)"
      ],
      "metadata": {
        "colab": {
          "base_uri": "https://localhost:8080/"
        },
        "id": "dltmNd60eBiM",
        "outputId": "1fa92fdd-167c-4582-d936-3f7056808cf2"
      },
      "execution_count": null,
      "outputs": [
        {
          "output_type": "stream",
          "name": "stdout",
          "text": [
            "\n",
            "Granger Causality\n",
            "number of lags (no zero) 1\n",
            "ssr based F test:         F=0.6359  , p=0.4268  , df_denom=116, df_num=1\n",
            "ssr based chi2 test:   chi2=0.6524  , p=0.4193  , df=1\n",
            "likelihood ratio test: chi2=0.6506  , p=0.4199  , df=1\n",
            "parameter F test:         F=0.6359  , p=0.4268  , df_denom=116, df_num=1\n",
            "\n",
            "Granger Causality\n",
            "number of lags (no zero) 2\n",
            "ssr based F test:         F=0.0040  , p=0.9960  , df_denom=113, df_num=2\n",
            "ssr based chi2 test:   chi2=0.0083  , p=0.9958  , df=2\n",
            "likelihood ratio test: chi2=0.0083  , p=0.9958  , df=2\n",
            "parameter F test:         F=0.0040  , p=0.9960  , df_denom=113, df_num=2\n",
            "\n",
            "Granger Causality\n",
            "number of lags (no zero) 3\n",
            "ssr based F test:         F=0.3531  , p=0.7870  , df_denom=110, df_num=3\n",
            "ssr based chi2 test:   chi2=1.1266  , p=0.7707  , df=3\n",
            "likelihood ratio test: chi2=1.1212  , p=0.7720  , df=3\n",
            "parameter F test:         F=0.3531  , p=0.7870  , df_denom=110, df_num=3\n"
          ]
        },
        {
          "output_type": "stream",
          "name": "stderr",
          "text": [
            "/usr/local/lib/python3.11/dist-packages/statsmodels/tsa/stattools.py:1556: FutureWarning: verbose is deprecated since functions should not print results\n",
            "  warnings.warn(\n"
          ]
        }
      ]
    },
    {
      "cell_type": "markdown",
      "source": [
        "Для лагов 1, 2 и 3 значения p-value по всем тестам (ssr F, chi2, likelihood ratio, F test) значительно больше 0.05\n",
        "\n",
        "Это означает, что нет статистически значимой причинной связи: продажи не вызывают изменение расходов на рекламу."
      ],
      "metadata": {
        "id": "1KbkIkcNghiz"
      }
    },
    {
      "cell_type": "markdown",
      "source": [
        "(б) Оцените регрессию $y_t$ на константу, $x_t , x_{t – 1} , x_{t – 2}$ . Дайте содержа тельную интерпретацию полученных результатов. Осуществите тест Дарбина—Уотсона и интерпретируйте его результаты. Можно ли использовать в представленной модели обычные стандартные ошибки или необходимо использовать состоятельные в условиях автокорреляции стандартные ошибки?"
      ],
      "metadata": {
        "id": "rs_f6fQlaWCo"
      }
    },
    {
      "cell_type": "markdown",
      "source": [
        "Регрессионная модель имеет вид:\n",
        "\n",
        "$y_t = β_0 + β_1*x_t + \\beta_2*x_{t-1} + β_3*x_{t-2} + ε_t$"
      ],
      "metadata": {
        "id": "awEviGbdhcyV"
      }
    },
    {
      "cell_type": "markdown",
      "source": [
        "Подготовим лаги"
      ],
      "metadata": {
        "id": "ss8a7udUheY1"
      }
    },
    {
      "cell_type": "code",
      "source": [
        "import statsmodels.api as sm\n",
        "\n",
        "# Создание лагов\n",
        "df_lag = df.copy()\n",
        "df_lag['xt_1'] = df_lag['x'].shift(1)\n",
        "df_lag['xt_2'] = df_lag['x'].shift(2)\n",
        "\n",
        "# Удаляем строки с NaN (из-за лагов)\n",
        "df_lag = df_lag.dropna()"
      ],
      "metadata": {
        "id": "6p-XHTndhd-S"
      },
      "execution_count": null,
      "outputs": []
    },
    {
      "cell_type": "markdown",
      "source": [
        "Построим модель OLS"
      ],
      "metadata": {
        "id": "9w6hHFiFiHGi"
      }
    },
    {
      "cell_type": "code",
      "source": [
        "X = df_lag[['x', 'xt_1', 'xt_2']]\n",
        "X = sm.add_constant(X)  # добавим константу\n",
        "y = df_lag['y']\n",
        "\n",
        "model = sm.OLS(y, X).fit()\n",
        "print(model.summary())"
      ],
      "metadata": {
        "colab": {
          "base_uri": "https://localhost:8080/"
        },
        "id": "T3LwYYDIiKL6",
        "outputId": "62ff3c90-c1cc-4ecf-cc3a-4c56b6a56819"
      },
      "execution_count": null,
      "outputs": [
        {
          "output_type": "stream",
          "name": "stdout",
          "text": [
            "                            OLS Regression Results                            \n",
            "==============================================================================\n",
            "Dep. Variable:                      y   R-squared:                       0.767\n",
            "Model:                            OLS   Adj. R-squared:                  0.761\n",
            "Method:                 Least Squares   F-statistic:                     125.2\n",
            "Date:                Sun, 13 Apr 2025   Prob (F-statistic):           6.37e-36\n",
            "Time:                        09:44:37   Log-Likelihood:                -211.22\n",
            "No. Observations:                 118   AIC:                             430.4\n",
            "Df Residuals:                     114   BIC:                             441.5\n",
            "Df Model:                           3                                         \n",
            "Covariance Type:            nonrobust                                         \n",
            "==============================================================================\n",
            "                 coef    std err          t      P>|t|      [0.025      0.975]\n",
            "------------------------------------------------------------------------------\n",
            "const         21.6889      0.387     55.991      0.000      20.922      22.456\n",
            "x             -0.0110      0.046     -0.237      0.813      -0.102       0.081\n",
            "xt_1           0.8305      0.047     17.842      0.000       0.738       0.923\n",
            "xt_2           0.4149      0.047      8.831      0.000       0.322       0.508\n",
            "==============================================================================\n",
            "Omnibus:                        3.849   Durbin-Watson:                   1.117\n",
            "Prob(Omnibus):                  0.146   Jarque-Bera (JB):                2.202\n",
            "Skew:                          -0.028   Prob(JB):                        0.333\n",
            "Kurtosis:                       2.333   Cond. No.                         23.5\n",
            "==============================================================================\n",
            "\n",
            "Notes:\n",
            "[1] Standard Errors assume that the covariance matrix of the errors is correctly specified.\n"
          ]
        }
      ]
    },
    {
      "cell_type": "markdown",
      "source": [
        "Проведем тест Дарбина–Уотсона"
      ],
      "metadata": {
        "id": "r_3C5vEmichm"
      }
    },
    {
      "cell_type": "code",
      "source": [
        "from statsmodels.stats.stattools import durbin_watson\n",
        "\n",
        "dw_stat = durbin_watson(model.resid)\n",
        "print(f\"Статистика Дарбина-Уотсона: {dw_stat:.4f}\")"
      ],
      "metadata": {
        "colab": {
          "base_uri": "https://localhost:8080/"
        },
        "id": "09wRjlj-igoJ",
        "outputId": "d9879366-1771-46f9-ba46-60617c3f69b4"
      },
      "execution_count": null,
      "outputs": [
        {
          "output_type": "stream",
          "name": "stdout",
          "text": [
            "Статистика Дарбина-Уотсона: 1.1167\n"
          ]
        }
      ]
    },
    {
      "cell_type": "markdown",
      "source": [
        "DW < 1.5 → положительная автокорреляция"
      ],
      "metadata": {
        "id": "wrpvG_e-ilKq"
      }
    },
    {
      "cell_type": "markdown",
      "source": [
        "**Надо ли использовать устойчивые стандартные ошибки?**\n",
        "\n",
        "Если тест Дарбина–Уотсона показывает наличие автокорреляции, то:\n",
        "\n",
        "- стандартные ошибки OLS не надёжны (некорректные t-статистики),\n",
        "\n",
        "- нужно использовать устойчивые (robust) стандартные ошибки"
      ],
      "metadata": {
        "id": "WvAO5M9Jiw5b"
      }
    },
    {
      "cell_type": "code",
      "source": [
        "robust_model = model.get_robustcov_results(cov_type='HAC', maxlags=2)\n",
        "print(robust_model.summary())"
      ],
      "metadata": {
        "colab": {
          "base_uri": "https://localhost:8080/"
        },
        "id": "psTfwm4ki7AB",
        "outputId": "6cbc9ae7-2b43-456c-f7e3-c8071261d334"
      },
      "execution_count": null,
      "outputs": [
        {
          "output_type": "stream",
          "name": "stdout",
          "text": [
            "                            OLS Regression Results                            \n",
            "==============================================================================\n",
            "Dep. Variable:                      y   R-squared:                       0.767\n",
            "Model:                            OLS   Adj. R-squared:                  0.761\n",
            "Method:                 Least Squares   F-statistic:                     156.5\n",
            "Date:                Sun, 13 Apr 2025   Prob (F-statistic):           2.90e-40\n",
            "Time:                        09:47:26   Log-Likelihood:                -211.22\n",
            "No. Observations:                 118   AIC:                             430.4\n",
            "Df Residuals:                     114   BIC:                             441.5\n",
            "Df Model:                           3                                         \n",
            "Covariance Type:                  HAC                                         \n",
            "==============================================================================\n",
            "                 coef    std err          t      P>|t|      [0.025      0.975]\n",
            "------------------------------------------------------------------------------\n",
            "const         21.6889      0.368     58.990      0.000      20.961      22.417\n",
            "x             -0.0110      0.044     -0.251      0.802      -0.098       0.076\n",
            "xt_1           0.8305      0.044     18.911      0.000       0.744       0.918\n",
            "xt_2           0.4149      0.044      9.495      0.000       0.328       0.501\n",
            "==============================================================================\n",
            "Omnibus:                        3.849   Durbin-Watson:                   1.117\n",
            "Prob(Omnibus):                  0.146   Jarque-Bera (JB):                2.202\n",
            "Skew:                          -0.028   Prob(JB):                        0.333\n",
            "Kurtosis:                       2.333   Cond. No.                         23.5\n",
            "==============================================================================\n",
            "\n",
            "Notes:\n",
            "[1] Standard Errors are heteroscedasticity and autocorrelation robust (HAC) using 2 lags and without small sample correction\n"
          ]
        }
      ]
    },
    {
      "cell_type": "markdown",
      "source": [
        "(в) Если в исходной модели были незначимые переменные, то оцените модель заново, исключив их. Осуществите тест Дарбина—Уотсона и интерпретируйте его результаты."
      ],
      "metadata": {
        "id": "VFF70afjaba8"
      }
    },
    {
      "cell_type": "markdown",
      "source": [
        "Так как у  $x_t$ p-value > 0.05, то это незначимая переменная"
      ],
      "metadata": {
        "id": "GVTC6zDZjj9w"
      }
    },
    {
      "cell_type": "markdown",
      "source": [
        "Новая модель:\n",
        "\n",
        "$y_t = β_0 + \\beta_1*x_{t-1} + β_2*x_{t-2} + ε_t$"
      ],
      "metadata": {
        "id": "fVZdcTbbkLbF"
      }
    },
    {
      "cell_type": "code",
      "source": [
        "X_reduced = df_lag[['xt_1', 'xt_2']]\n",
        "X_reduced = sm.add_constant(X_reduced)\n",
        "\n",
        "model_reduced = sm.OLS(y, X_reduced).fit()\n",
        "print(model_reduced.summary())\n",
        "\n",
        "# Новый тест Дарбина-Уотсона\n",
        "dw_stat_reduced = durbin_watson(model_reduced.resid)\n",
        "print(f\"\\nDW для упрощённой модели: {dw_stat_reduced:.4f}\")"
      ],
      "metadata": {
        "colab": {
          "base_uri": "https://localhost:8080/"
        },
        "id": "cbKqtZCSkUyg",
        "outputId": "e973f76f-c5e2-4522-cd02-73a65c041d46"
      },
      "execution_count": null,
      "outputs": [
        {
          "output_type": "stream",
          "name": "stdout",
          "text": [
            "                            OLS Regression Results                            \n",
            "==============================================================================\n",
            "Dep. Variable:                      y   R-squared:                       0.767\n",
            "Model:                            OLS   Adj. R-squared:                  0.763\n",
            "Method:                 Least Squares   F-statistic:                     189.3\n",
            "Date:                Sun, 13 Apr 2025   Prob (F-statistic):           4.20e-37\n",
            "Time:                        09:57:18   Log-Likelihood:                -211.25\n",
            "No. Observations:                 118   AIC:                             428.5\n",
            "Df Residuals:                     115   BIC:                             436.8\n",
            "Df Model:                           2                                         \n",
            "Covariance Type:            nonrobust                                         \n",
            "==============================================================================\n",
            "                 coef    std err          t      P>|t|      [0.025      0.975]\n",
            "------------------------------------------------------------------------------\n",
            "const         21.6406      0.328     65.939      0.000      20.991      22.291\n",
            "xt_1           0.8316      0.046     18.026      0.000       0.740       0.923\n",
            "xt_2           0.4138      0.047      8.886      0.000       0.322       0.506\n",
            "==============================================================================\n",
            "Omnibus:                        3.931   Durbin-Watson:                   1.113\n",
            "Prob(Omnibus):                  0.140   Jarque-Bera (JB):                2.225\n",
            "Skew:                          -0.020   Prob(JB):                        0.329\n",
            "Kurtosis:                       2.329   Cond. No.                         16.8\n",
            "==============================================================================\n",
            "\n",
            "Notes:\n",
            "[1] Standard Errors assume that the covariance matrix of the errors is correctly specified.\n",
            "\n",
            "DW для упрощённой модели: 1.1125\n"
          ]
        }
      ]
    },
    {
      "cell_type": "markdown",
      "source": [
        "R² = 0.767 → Модель объясняет 76.7% дисперсии объёма продаж — это хороший результат.\n",
        "\n",
        "DW = 1.113\n",
        "→ Это значительно меньше 2, что указывает на наличие положительной автокорреляции остатков."
      ],
      "metadata": {
        "id": "gP4VY1Q7l_yX"
      }
    },
    {
      "cell_type": "code",
      "source": [
        "model_robust = model_reduced.get_robustcov_results(cov_type='HAC', maxlags=2)\n",
        "print(model_robust.summary())"
      ],
      "metadata": {
        "colab": {
          "base_uri": "https://localhost:8080/"
        },
        "id": "_TBAwAO8mLmx",
        "outputId": "4a1c56f8-4837-494d-cc13-d0dc35e2eb2c"
      },
      "execution_count": null,
      "outputs": [
        {
          "output_type": "stream",
          "name": "stdout",
          "text": [
            "                            OLS Regression Results                            \n",
            "==============================================================================\n",
            "Dep. Variable:                      y   R-squared:                       0.767\n",
            "Model:                            OLS   Adj. R-squared:                  0.763\n",
            "Method:                 Least Squares   F-statistic:                     227.5\n",
            "Date:                Sun, 13 Apr 2025   Prob (F-statistic):           1.07e-40\n",
            "Time:                        10:01:51   Log-Likelihood:                -211.25\n",
            "No. Observations:                 118   AIC:                             428.5\n",
            "Df Residuals:                     115   BIC:                             436.8\n",
            "Df Model:                           2                                         \n",
            "Covariance Type:                  HAC                                         \n",
            "==============================================================================\n",
            "                 coef    std err          t      P>|t|      [0.025      0.975]\n",
            "------------------------------------------------------------------------------\n",
            "const         21.6406      0.282     76.682      0.000      21.082      22.200\n",
            "xt_1           0.8316      0.042     19.617      0.000       0.748       0.916\n",
            "xt_2           0.4138      0.043      9.677      0.000       0.329       0.499\n",
            "==============================================================================\n",
            "Omnibus:                        3.931   Durbin-Watson:                   1.113\n",
            "Prob(Omnibus):                  0.140   Jarque-Bera (JB):                2.225\n",
            "Skew:                          -0.020   Prob(JB):                        0.329\n",
            "Kurtosis:                       2.329   Cond. No.                         16.8\n",
            "==============================================================================\n",
            "\n",
            "Notes:\n",
            "[1] Standard Errors are heteroscedasticity and autocorrelation robust (HAC) using 2 lags and without small sample correction\n"
          ]
        }
      ]
    },
    {
      "cell_type": "markdown",
      "source": [
        "(г) Оцените регрессию yt на константу, $x_t , x_{t – 1} , y_{t – 1}$ . Дайте содержа тельную интерпретацию полученных результатов. Почему в этой модели нельзя использовать тест Дарбина—Уотсона? Каким образом можно проверить, есть ли автокорреляция в новой модели?"
      ],
      "metadata": {
        "id": "DHXyEwj_acNa"
      }
    },
    {
      "cell_type": "markdown",
      "source": [
        "Модель:\n",
        "\n",
        "$y_t = β_0 + β_1*x_t + \\beta_2*x_{t-1} + β_3*y_{t-1} + ε_t$"
      ],
      "metadata": {
        "id": "9I1dgEavm11G"
      }
    },
    {
      "cell_type": "markdown",
      "source": [
        "Оценим её"
      ],
      "metadata": {
        "id": "0zFIGKounXz_"
      }
    },
    {
      "cell_type": "code",
      "source": [
        "# Добавим лаги\n",
        "df['xt_1'] = df['x'].shift(1)\n",
        "df['yt_1'] = df['y'].shift(1)\n",
        "\n",
        "df_model = df.dropna()\n",
        "\n",
        "X = df_model[['x', 'xt_1', 'yt_1']]\n",
        "X = sm.add_constant(X)\n",
        "y = df_model['y']\n",
        "\n",
        "model_dyn = sm.OLS(y, X).fit()\n",
        "print(model_dyn.summary())"
      ],
      "metadata": {
        "colab": {
          "base_uri": "https://localhost:8080/"
        },
        "id": "cCw33wMQnHEG",
        "outputId": "4aa3b5a8-6a7e-4fe2-8b9d-d219ea4fe166"
      },
      "execution_count": null,
      "outputs": [
        {
          "output_type": "stream",
          "name": "stdout",
          "text": [
            "                            OLS Regression Results                            \n",
            "==============================================================================\n",
            "Dep. Variable:                      y   R-squared:                       0.857\n",
            "Model:                            OLS   Adj. R-squared:                  0.853\n",
            "Method:                 Least Squares   F-statistic:                     229.6\n",
            "Date:                Sun, 13 Apr 2025   Prob (F-statistic):           2.23e-48\n",
            "Time:                        10:05:54   Log-Likelihood:                -183.63\n",
            "No. Observations:                 119   AIC:                             375.3\n",
            "Df Residuals:                     115   BIC:                             386.4\n",
            "Df Model:                           3                                         \n",
            "Covariance Type:            nonrobust                                         \n",
            "==============================================================================\n",
            "                 coef    std err          t      P>|t|      [0.025      0.975]\n",
            "------------------------------------------------------------------------------\n",
            "const          9.9294      0.990     10.035      0.000       7.969      11.889\n",
            "x             -0.0077      0.036     -0.215      0.830      -0.079       0.064\n",
            "xt_1           0.8173      0.036     22.534      0.000       0.745       0.889\n",
            "yt_1           0.5026      0.035     14.159      0.000       0.432       0.573\n",
            "==============================================================================\n",
            "Omnibus:                        2.155   Durbin-Watson:                   1.999\n",
            "Prob(Omnibus):                  0.340   Jarque-Bera (JB):                1.545\n",
            "Skew:                          -0.006   Prob(JB):                        0.462\n",
            "Kurtosis:                       2.442   Cond. No.                         262.\n",
            "==============================================================================\n",
            "\n",
            "Notes:\n",
            "[1] Standard Errors assume that the covariance matrix of the errors is correctly specified.\n"
          ]
        }
      ]
    },
    {
      "cell_type": "markdown",
      "source": [
        "x: мгновенное влияние расходов на рекламу.\n",
        "\n",
        "$x_{t-1}$: эффект запаздывания рекламы на один месяц.\n",
        "\n",
        "$y_{t-1}$: влияние прошлых продаж на текущие (автозависимость).\n",
        "\n",
        "Если $y_{t-1}$ значим и положителен — продажи демонстрируют инерционность: высокий результат в прошлом месяце увеличивает текущие."
      ],
      "metadata": {
        "id": "TD2TSn-vnbxC"
      }
    },
    {
      "cell_type": "markdown",
      "source": [
        "Почему нельзя использовать тест Дарбина–Уотсона:\n",
        "\n",
        "Дарбин–Уотсон не применим, если в модели есть лаг зависимой переменной ($y_{t-1}$). Причина:\n",
        "\n",
        "- $y_{t-1}$ по определению коррелирован с ошибками модели — нарушаются предпосылки DW-теста.\n",
        "\n",
        "В этом случае DW занижен и не даёт надёжной информации."
      ],
      "metadata": {
        "id": "dkfetWhonW7d"
      }
    },
    {
      "cell_type": "markdown",
      "source": [
        "Вместо теста Дарбина-Уотсона можно использовать тест Бреуша-Годфри (Breusch–Godfrey)"
      ],
      "metadata": {
        "id": "RGhmCfk9oodR"
      }
    },
    {
      "cell_type": "code",
      "source": [
        "from statsmodels.stats.diagnostic import acorr_breusch_godfrey\n",
        "\n",
        "bg_test = acorr_breusch_godfrey(model_dyn, nlags=2)\n",
        "print(f\"p-value BG теста: {bg_test[1]:.4f}\")"
      ],
      "metadata": {
        "colab": {
          "base_uri": "https://localhost:8080/"
        },
        "id": "_6Zkm4Zaox0z",
        "outputId": "5b4562ad-24d3-4ef2-e20a-0abeae82c3b6"
      },
      "execution_count": null,
      "outputs": [
        {
          "output_type": "stream",
          "name": "stdout",
          "text": [
            "p-value BG теста: 0.4588\n"
          ]
        }
      ]
    },
    {
      "cell_type": "markdown",
      "source": [
        "p-value > 0.05, → остатки ведут себя нормально."
      ],
      "metadata": {
        "id": "egXo86Vbo8Vn"
      }
    },
    {
      "cell_type": "markdown",
      "source": [
        " (д) Сравните полученные в предыдущих пунктах модели и выберите наиболее удачную из них."
      ],
      "metadata": {
        "id": "XKMGOcmpab_m"
      }
    },
    {
      "cell_type": "markdown",
      "source": [
        "| **Формула**                                                                   | **R²**   | **DW**    | **Учет $y_{t-1}$** | **Автокорреляция в остатках** | **Вывод**                          |                                           \n",
        "|-------------------------------------------------------------------------------|----------|-----------|---------------------|-------------------------------|------------------------------------|\n",
        "| $y_t = \\beta_0 + \\beta_1 x_t + \\beta_2 x_{t-1} + \\beta_3 x_{t-2} + \\varepsilon_t$       | 0.767    | 1.1167    | ❌                  | ✅ Есть                        | Простая, но с автокорреляцией     |\n",
        "| $y_t = \\beta_0 + \\beta_1 x_{t-1} + \\beta_2 x_{t-2} + \\varepsilon_t$                    | 0.767   | 1.1125  | ❌                  | ✅ Есть                        | Похожа на первую, немного проще         |\n",
        "| $y_t = \\beta_0 + \\beta_1 x_t + \\beta_2 x_{t-1} + \\beta_3 y_{t-1} + \\varepsilon_t$      |  0.857  | —         | ✅                  | ❌ Нет     | Лучшая по объяснительной силе     |\n",
        "\n"
      ],
      "metadata": {
        "id": "ag4QQzjnuiM6"
      }
    }
  ]
}